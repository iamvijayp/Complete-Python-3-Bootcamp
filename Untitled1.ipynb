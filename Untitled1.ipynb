{
  "nbformat": 4,
  "nbformat_minor": 0,
  "metadata": {
    "colab": {
      "provenance": [],
      "authorship_tag": "ABX9TyPnGDI23fSb49mjenNWwp0a",
      "include_colab_link": true
    },
    "kernelspec": {
      "name": "python3",
      "display_name": "Python 3"
    },
    "language_info": {
      "name": "python"
    }
  },
  "cells": [
    {
      "cell_type": "markdown",
      "metadata": {
        "id": "view-in-github",
        "colab_type": "text"
      },
      "source": [
        "<a href=\"https://colab.research.google.com/github/iamvijayp/Complete-Python-3-Bootcamp/blob/master/Untitled1.ipynb\" target=\"_parent\"><img src=\"https://colab.research.google.com/assets/colab-badge.svg\" alt=\"Open In Colab\"/></a>"
      ]
    },
    {
      "cell_type": "code",
      "source": [
        "fruits = ['apple', 'grapes', 'pineapple']"
      ],
      "metadata": {
        "id": "wh865ks5Q3aw"
      },
      "execution_count": 1,
      "outputs": []
    },
    {
      "cell_type": "code",
      "source": [
        "meal = {'breakfast': 'soup', 'lunch': 'biriyani', 'dinner': 'porotta'}"
      ],
      "metadata": {
        "id": "pqtMOZSt26MJ"
      },
      "execution_count": 3,
      "outputs": []
    },
    {
      "cell_type": "code",
      "source": [
        "for meal_item, meal_name in meal.items():\n",
        "  print(f\"meal name is {meal_name} at meal time {meal_item}\")"
      ],
      "metadata": {
        "colab": {
          "base_uri": "https://localhost:8080/"
        },
        "id": "Ko0kJlZif_ce",
        "outputId": "290a53a4-2dd8-4d7a-c1c5-51d6a61c3a66"
      },
      "execution_count": 4,
      "outputs": [
        {
          "output_type": "stream",
          "name": "stdout",
          "text": [
            "meal name is soup at meal time breakfast\n",
            "meal name is biriyani at meal time lunch\n",
            "meal name is porotta at meal time dinner\n"
          ]
        }
      ]
    }
  ]
}